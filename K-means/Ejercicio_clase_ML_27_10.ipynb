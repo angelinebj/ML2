{
  "nbformat": 4,
  "nbformat_minor": 0,
  "metadata": {
    "colab": {
      "provenance": []
    },
    "kernelspec": {
      "name": "python3",
      "display_name": "Python 3"
    },
    "language_info": {
      "name": "python"
    }
  },
  "cells": [
    {
      "cell_type": "code",
      "execution_count": 2,
      "metadata": {
        "colab": {
          "base_uri": "https://localhost:8080/"
        },
        "id": "OlAfIA8gu6mK",
        "outputId": "3d603527-16bc-49d3-9bb7-0b08954c5551"
      },
      "outputs": [
        {
          "output_type": "stream",
          "name": "stdout",
          "text": [
            "[[1, 1], [2, 2], [5, 5], [6, 6]] is inside [0, 0, 1, 1]\n"
          ]
        }
      ],
      "source": [
        "import numpy as np\n",
        "\n",
        "# Define functions\n",
        "def distance(p1,p2):\n",
        "    dist = np.sqrt((p2[0]-p1[0])**2+(p2[1]-p1[1])**2)\n",
        "    return dist\n",
        "\n",
        "def compute_centroid(subdata):\n",
        "  subdata = np.array(subdata)\n",
        "  c_x = 1 / len(subdata) * np.sum(subdata[:,0])\n",
        "  c_y = 1 / len(subdata) * np.sum(subdata[:,1])\n",
        "  return [c_x, c_y]\n",
        "\n",
        "# Initial Centroids\n",
        "C1, C2 = [1,1], [5,5]\n",
        "LabelsCentroids = [0, 1]\n",
        "\n",
        "# Dataset\n",
        "A= [1, 1]\n",
        "B= [2, 2]\n",
        "C= [5, 5]\n",
        "D= [6, 6]\n",
        "\n",
        "dataset = [A, B, C, D]\n",
        "\n",
        "Label = []\n",
        "for P in dataset:\n",
        "  dPC1 = distance(P,C1)\n",
        "  dPC2 = distance(P,C2)\n",
        "  # print(\" Dist. of P wrt C1:\", dPC1, \"\\n\", \"Dist. of P wrt C2:\", dPC2)\n",
        "\n",
        "  MindPC = min(dPC1, dPC2)\n",
        "  # print(\"Min dist. of P wrt centroids = \", MindPC)\n",
        "\n",
        "  if MindPC == dPC1:\n",
        "      Label.append(LabelsCentroids[0])\n",
        "  else: Label.append(LabelsCentroids[1])\n",
        "\n",
        "print(f\"{dataset} is inside {Label}\")"
      ]
    },
    {
      "cell_type": "code",
      "source": [
        "data_in_C1 = [A, B]\n",
        "data_in_C2 = [C, D]\n",
        "\n",
        "C1 = compute_centroid(data_in_C1)\n",
        "C2 = compute_centroid(data_in_C2)\n",
        "\n",
        "print(f\"New centroid C1 {C1}\")\n",
        "print(f\"New centroid C2 {C2}\")"
      ],
      "metadata": {
        "colab": {
          "base_uri": "https://localhost:8080/"
        },
        "id": "S3Yd3V66wUAg",
        "outputId": "d3831505-132a-4ed4-ef3f-983763b67632"
      },
      "execution_count": 3,
      "outputs": [
        {
          "output_type": "stream",
          "name": "stdout",
          "text": [
            "New centroid C1 [np.float64(1.5), np.float64(1.5)]\n",
            "New centroid C2 [np.float64(5.5), np.float64(5.5)]\n"
          ]
        }
      ]
    },
    {
      "cell_type": "code",
      "source": [
        "#segunda iteración\n",
        "Label = []\n",
        "for P in dataset:\n",
        "  dPC1 = distance(P,C1)\n",
        "  dPC2 = distance(P,C2)\n",
        "  # print(\" Dist. of P wrt C1:\", dPC1, \"\\n\", \"Dist. of P wrt C2:\", dPC2)\n",
        "\n",
        "  MindPC = min(dPC1, dPC2)\n",
        "  # print(\"Min dist. of P wrt centroids = \", MindPC)\n",
        "\n",
        "  if MindPC == dPC1:\n",
        "      Label.append(LabelsCentroids[0])\n",
        "  else: Label.append(LabelsCentroids[1])\n",
        "\n",
        "print(f\"{dataset} is inside {Label}\")"
      ],
      "metadata": {
        "colab": {
          "base_uri": "https://localhost:8080/"
        },
        "id": "NfJ_dgNXzIZo",
        "outputId": "8611654d-1b34-4de2-a3c9-7e03cf7452d5"
      },
      "execution_count": 4,
      "outputs": [
        {
          "output_type": "stream",
          "name": "stdout",
          "text": [
            "[[1, 1], [2, 2], [5, 5], [6, 6]] is inside [0, 0, 1, 1]\n"
          ]
        }
      ]
    },
    {
      "cell_type": "code",
      "source": [
        "data_in_C1 = [A, B]\n",
        "data_in_C2 = [C, D]\n",
        "\n",
        "C1 = compute_centroid(data_in_C1)\n",
        "C2 = compute_centroid(data_in_C2)\n",
        "\n",
        "print(f\"New centroid C1 {C1}\")\n",
        "print(f\"New centroid C2 {C2}\")"
      ],
      "metadata": {
        "colab": {
          "base_uri": "https://localhost:8080/"
        },
        "id": "RvZWI-dZymPI",
        "outputId": "0a1a8c3f-d377-4718-a1ce-9b1953877128"
      },
      "execution_count": 5,
      "outputs": [
        {
          "output_type": "stream",
          "name": "stdout",
          "text": [
            "New centroid C1 [np.float64(1.5), np.float64(1.5)]\n",
            "New centroid C2 [np.float64(5.5), np.float64(5.5)]\n"
          ]
        }
      ]
    },
    {
      "cell_type": "code",
      "source": [
        "#segundo punto\n",
        "\n",
        "#función para calcular wcss\n",
        "\n",
        "def wcss(k, clusters, centroids):\n",
        "    total = 0\n",
        "    for i in range(k):\n",
        "        for p in clusters[i]:\n",
        "            total += distance(p, centroids[i])**2\n",
        "    return total\n",
        "\n",
        "#clusters\n",
        "C1 = np.array([[1, 2], [2, 3]])\n",
        "C2 = np.array([[5, 6], [6, 7]])\n",
        "clusters = [C1, C2]\n",
        "k = len(clusters)\n",
        "\n",
        "#Calcular centroides\n",
        "centroids = [compute_centroid(C1), compute_centroid(C2)]\n",
        "\n",
        "#wcss\n",
        "total_wcss = wcss(k, clusters, centroids)\n",
        "print(\"Centroides:\", centroids)\n",
        "print(\"WCSS total:\", total_wcss)\n"
      ],
      "metadata": {
        "id": "9sSbTjZSz2_K",
        "colab": {
          "base_uri": "https://localhost:8080/"
        },
        "outputId": "76d8dd3a-10be-46c5-c169-cedc56e3807a"
      },
      "execution_count": 6,
      "outputs": [
        {
          "output_type": "stream",
          "name": "stdout",
          "text": [
            "Centroides: [[np.float64(1.5), np.float64(2.5)], [np.float64(5.5), np.float64(6.5)]]\n",
            "WCSS total: 2.0000000000000004\n"
          ]
        }
      ]
    },
    {
      "cell_type": "code",
      "source": [
        "#tercer ejercicio\n",
        "\n",
        "import matplotlib.pyplot as plt\n",
        "k_values = [1, 2, 3, 4, 5]\n",
        "wcss_values = [100, 50, 30, 25, 23]\n",
        "\n",
        "#gráfica\n",
        "plt.plot(k_values, wcss_values, marker='o')\n",
        "plt.title(\"Elbow Method for Optimal k\")\n",
        "plt.xlabel(\"Número de clusters (k)\")\n",
        "plt.ylabel(\"WCSS\")\n",
        "plt.xticks(k_values)\n",
        "plt.grid(True)\n",
        "plt.show()"
      ],
      "metadata": {
        "colab": {
          "base_uri": "https://localhost:8080/",
          "height": 472
        },
        "id": "gnQjFR2qFzMM",
        "outputId": "e4be635f-9ca3-47c6-8572-53de3da38ad0"
      },
      "execution_count": 7,
      "outputs": [
        {
          "output_type": "display_data",
          "data": {
            "text/plain": [
              "<Figure size 640x480 with 1 Axes>"
            ],
            "image/png": "[encoded data removed]"
          },
          "metadata": {}
        }
      ]
    },
    {
      "cell_type": "markdown",
      "source": [
        "Como podemos visualizar en la gráfica, después de k=3, la mejora se va haciendo más pequeña, hay un codo en k=3.\n"
      ],
      "metadata": {
        "id": "R-6rlcwKGWE1"
      }
    }
  ]
}