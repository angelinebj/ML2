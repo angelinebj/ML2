{
  "nbformat": 4,
  "nbformat_minor": 0,
  "metadata": {
    "colab": {
      "provenance": []
    },
    "kernelspec": {
      "name": "python3",
      "display_name": "Python 3"
    },
    "language_info": {
      "name": "python"
    }
  },
  "cells": [
    {
      "cell_type": "code",
      "execution_count": 43,
      "metadata": {
        "id": "DlEVQPy79RiT"
      },
      "outputs": [],
      "source": [
        "import numpy as np\n",
        "\n",
        "# funciones para la generalización de k-means\n",
        "\n",
        "def distance(p1,p2): #función para calcular la distancia euclideana\n",
        "    dist = np.sqrt((p2[0]-p1[0])**2+(p2[1]-p1[1])**2)\n",
        "    return dist\n",
        "\n",
        "def compute_centroid(subdata): #función para calcular los centroides\n",
        "  subdata = np.array(subdata)\n",
        "  c_x = 1 / len(subdata) * np.sum(subdata[:,0])\n",
        "  c_y = 1 / len(subdata) * np.sum(subdata[:,1])\n",
        "  return [c_x, c_y]\n",
        "\n",
        "#algoritmo de kmeans generalizado que devuelve los centroides finales y a que cluster pertenece cada punto (labels)\n",
        "def kmeans(puntos, centroids, max_iter=100, tol=1e-2):\n",
        "  for i in range(max_iter):\n",
        "    labels = []\n",
        "    new_centroids = []\n",
        "    for p in puntos:\n",
        "      distances = [distance(p, c) for c in centroids]\n",
        "      labels.append(np.argmin(distances)) #asigna cada punto al centroide inicial más cercano\n",
        "    labels = np.array(labels)\n",
        "    for j in range(len(centroids)):\n",
        "      cluster_points = puntos[labels == j]\n",
        "      if len(cluster_points) > 0:\n",
        "          new_centroids.append(compute_centroid(cluster_points)) #se actualizan los centroides\n",
        "      else:\n",
        "          new_centroids.append(centroids[j]) #se mantiene el centroide anterior si no hay puntos en el cluster\n",
        "    new_centroids = np.array(new_centroids)\n",
        "    shift = np.linalg.norm(new_centroids - centroids)\n",
        "    if shift < tol:\n",
        "      print(f\"Convergencia alcanzada en {i+1} iteraciones.\")\n",
        "      break\n",
        "    centroids = new_centroids\n",
        "  return centroids, labels"
      ]
    },
    {
      "cell_type": "code",
      "source": [
        "#ejemplo\n",
        "dataset = np.array([\n",
        "    [1, 1],\n",
        "    [2, 2],\n",
        "    [8, 8],\n",
        "    [9, 9],\n",
        "    [8, 9],\n",
        "    [9, 8]\n",
        "])\n",
        "\n",
        "# Initial Centroids\n",
        "C1, C2, C3 = [1,1], [5,5], [7,7]\n",
        "centroids = np.array([C1, C2, C3])\n",
        "\n",
        "centroids, labels = kmeans(dataset, centroids)\n",
        "\n",
        "print(\"Centroides finales:\")\n",
        "print(centroids)\n",
        "print(\"Etiquetas asignadas:\")\n",
        "print(labels)"
      ],
      "metadata": {
        "colab": {
          "base_uri": "https://localhost:8080/"
        },
        "id": "X4MjFkQG28Qd",
        "outputId": "41385003-a22e-40fe-d1b0-ae7df9acd2b0"
      },
      "execution_count": 45,
      "outputs": [
        {
          "output_type": "stream",
          "name": "stdout",
          "text": [
            "Convergencia alcanzada en 2 iteraciones.\n",
            "Centroides finales:\n",
            "[[1.5 1.5]\n",
            " [5.  5. ]\n",
            " [8.5 8.5]]\n",
            "Etiquetas asignadas:\n",
            "[0 0 2 2 2 2]\n"
          ]
        }
      ]
    },
    {
      "cell_type": "code",
      "source": [
        "#ejemplo\n",
        "dataset = np.array([\n",
        "    [1, 1],\n",
        "    [2, 2],\n",
        "    [8, 8],\n",
        "    [9, 9],\n",
        "    [8, 9],\n",
        "    [9, 8]\n",
        "])\n",
        "\n",
        "# Initial Centroids\n",
        "C1, C2, C3 = [1,1], [5,5], [7,7]\n",
        "centroids = np.array([C1, C2, C3])\n",
        "\n",
        "centroids, labels = kmeans(dataset, centroids)\n",
        "\n",
        "print(\"Centroides finales:\")\n",
        "print(centroids)\n",
        "print(\"Etiquetas asignadas:\")\n",
        "print(labels)"
      ],
      "metadata": {
        "colab": {
          "base_uri": "https://localhost:8080/"
        },
        "outputId": "2224217e-8afe-4f6c-c91f-c2803b74ca41",
        "id": "14_spg9RAuca"
      },
      "execution_count": 46,
      "outputs": [
        {
          "output_type": "stream",
          "name": "stdout",
          "text": [
            "Convergencia alcanzada en 2 iteraciones.\n",
            "Centroides finales:\n",
            "[[1.5 1.5]\n",
            " [5.  5. ]\n",
            " [8.5 8.5]]\n",
            "Etiquetas asignadas:\n",
            "[0 0 2 2 2 2]\n"
          ]
        }
      ]
    }
  ]
}