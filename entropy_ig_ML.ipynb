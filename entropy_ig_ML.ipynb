{
  "nbformat": 4,
  "nbformat_minor": 0,
  "metadata": {
    "colab": {
      "provenance": [],
      "authorship_tag": "ABX9TyPbRAP9O/xQAf2fZHHb3rvI",
      "include_colab_link": true
    },
    "kernelspec": {
      "name": "python3",
      "display_name": "Python 3"
    },
    "language_info": {
      "name": "python"
    }
  },
  "cells": [
    {
      "cell_type": "markdown",
      "metadata": {
        "id": "view-in-github",
        "colab_type": "text"
      },
      "source": [
        "<a href=\"https://colab.research.google.com/github/angelinebj/ML2/blob/main/entropy_ig_ML.ipynb\" target=\"_parent\"><img src=\"https://colab.research.google.com/assets/colab-badge.svg\" alt=\"Open In Colab\"/></a>"
      ]
    },
    {
      "cell_type": "code",
      "source": [
        "import pandas as pd\n",
        "import numpy as np\n",
        "\n",
        "df=pd.read_csv(\"/content/tennis_dataset 1.csv\")\n"
      ],
      "metadata": {
        "id": "df01P-K6YhfF"
      },
      "execution_count": 4,
      "outputs": []
    },
    {
      "cell_type": "code",
      "execution_count": 5,
      "metadata": {
        "colab": {
          "base_uri": "https://localhost:8080/"
        },
        "id": "_fXtJsvFXf2C",
        "outputId": "8d6163cc-7237-4d63-a358-24d5c122c958"
      },
      "outputs": [
        {
          "output_type": "stream",
          "name": "stdout",
          "text": [
            "Entropía de Play: 0.940286\n",
            "IG(Outlook) = 0.246750\n",
            "IG(Temperature) = 0.029223\n",
            "IG(Humidity) = 0.151836\n",
            "IG(Wind) = 0.048127\n"
          ]
        }
      ],
      "source": [
        "# Función de entropía\n",
        "def entropy(col):\n",
        "    values, counts = np.unique(col, return_counts=True)\n",
        "    probs = counts / counts.sum()\n",
        "    return -np.sum(probs * np.log2(probs))\n",
        "\n",
        "# Entropía del target\n",
        "target_entropy = entropy(df[\"Play\"])\n",
        "print(f\"Entropía de Play: {target_entropy:.6f}\")\n",
        "\n",
        "# Función para calcular IG\n",
        "def information_gain(df, feature, target=\"Play\"):\n",
        "    total_entropy = entropy(df[target])\n",
        "    values, counts = np.unique(df[feature], return_counts=True)\n",
        "\n",
        "    weighted_entropy = 0\n",
        "    for v, c in zip(values, counts):\n",
        "        subset = df[df[feature] == v][target]\n",
        "        weighted_entropy += (c/len(df)) * entropy(subset)\n",
        "\n",
        "    return total_entropy - weighted_entropy\n",
        "\n",
        "# Calcular IG para cada feature\n",
        "features = [\"Outlook\",\"Temperature\",\"Humidity\",\"Wind\"]\n",
        "for f in features:\n",
        "    ig = information_gain(df, f)\n",
        "    print(f\"IG({f}) = {ig:.6f}\")"
      ]
    }
  ]
}